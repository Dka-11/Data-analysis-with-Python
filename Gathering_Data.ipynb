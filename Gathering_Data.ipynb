{
 "cells": [
  {
   "cell_type": "code",
   "execution_count": null,
   "metadata": {},
   "outputs": [],
   "source": [
    "import pandas as pd\n",
    "\n",
    "# Read CSV File\n",
    "df = pd.read_csv(\"namafile.csv\", delimiter=\",\")\n",
    "\n",
    "# Read XLSX / XLS\n",
    "df = pd.read_excel(\"namafile.xlsx\", sheet_name=\"Sheet1\")\n",
    "\n",
    "# Read JSON\n",
    "df = pd.read_json(\"namafile.json\")\n",
    "\n",
    "# Read HTML\n",
    "url = \"https://www.fdic.gov/resources/resolutions/bank-failures/failed-bank-list\"\n",
    "df = pd.read_html(url)[0]\n",
    "\n",
    "# Read XML\n",
    "df = pd.read_xml(\"https://www.w3schools.com/xml/books.xml\")"
   ]
  },
  {
   "cell_type": "code",
   "execution_count": null,
   "metadata": {},
   "outputs": [],
   "source": [
    "import pandas as pd\n",
    "import sqlalchemy as sqla\n",
    "\n",
    "\n",
    "# Akses data dari SQL Database\n",
    "db = sqla.create_engine(\"sqlite:///mydata.sqlite\")\n",
    "\n",
    "# Read SQL Table\n",
    "pd.read_sql_table(\"table_name\", db)\n",
    "\n",
    "# Read SQL Query --> membaca SQL query dan mempresentasikannya ke dalam bentuk pandas DataFrame.\n",
    "pd.read_sql_query(\"SELECT * FROM table_name\", db)\n",
    "\n",
    "# Read SQL --> membaca SQL query atau table dan mempresentasikannya ke dalam bentuk pandas DataFrame\n",
    "pd.read_sql(\"SELECT * FROM table_name\", db)"
   ]
  },
  {
   "cell_type": "code",
   "execution_count": null,
   "metadata": {},
   "outputs": [],
   "source": [
    "import pandas as pd\n",
    "\n",
    "product_df = pd.read_csv(\"product.csv\")\n",
    "orders_df = pd.read_csv(\"orders.csv\")\n",
    "\n",
    "\n",
    "# Merge --> Sebagai tool andalan dalam pengolahan dan analisis data, pandas menyediakan sebuah function bernama\n",
    "new_order_df = pd.merge(\n",
    "    left=product_df,\n",
    "    right=orders_df,\n",
    "    how=\"inner\",\n",
    "    left_on=\"product_id\",\n",
    "    right_on=\"product_id\"\n",
    ")"
   ]
  }
 ],
 "metadata": {
  "kernelspec": {
   "display_name": "Python 3",
   "language": "python",
   "name": "python3"
  },
  "language_info": {
   "name": "python",
   "version": "3.11.3"
  },
  "orig_nbformat": 4
 },
 "nbformat": 4,
 "nbformat_minor": 2
}
