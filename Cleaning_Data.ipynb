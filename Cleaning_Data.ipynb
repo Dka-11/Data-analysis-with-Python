{
 "cells": [
  {
   "cell_type": "markdown",
   "metadata": {},
   "source": [
    "# Teknik u/ mengatasi Missing Value"
   ]
  },
  {
   "cell_type": "markdown",
   "metadata": {},
   "source": [
    "## Dropping\n",
    "\n",
    "Pada metode ini, kita akan menghapus seluruh baris atau kolom yang memiliki missing value"
   ]
  },
  {
   "cell_type": "code",
   "execution_count": null,
   "metadata": {},
   "outputs": [],
   "source": [
    "#  Dropna() --> menghapus seluruh baris atau kolom yang memiliki missing value\n",
    "import pandas as pd\n",
    "\n",
    "products_df = pd.read_csv(\"product.csv\")\n",
    "\n",
    "products_df.dropna(axis=0, inplace=True)\n",
    "# axis = 0 --> Drop rows which contain missing values.\n",
    "# axis = 1 -->  Drop columns which contain missing value.\n",
    "# Inplace = True --> menerapkan operasi tersebut ke dalam DataFrame"
   ]
  },
  {
   "cell_type": "markdown",
   "metadata": {},
   "source": [
    "## Imputation\n",
    "\n",
    "Mengisi (fill) missing value dengan nilai tertentu.  \n",
    "- Data Kontinu --> menggunakan nilai mean, median, atau mode sebagai pengganti missing value  \n",
    "- Kategoris --> mengisi missing value dengan kategori yang paling sering muncul."
   ]
  },
  {
   "cell_type": "code",
   "execution_count": null,
   "metadata": {},
   "outputs": [],
   "source": [
    "# Fillna() --> mengganti missing value dengan nilai tertentu\n",
    "import pandas as pd\n",
    "\n",
    "data=pd.read_csv('employee_data.csv')\n",
    "\n",
    "data.age.fillna(value=data.age.mean(), inplace=True)"
   ]
  },
  {
   "cell_type": "markdown",
   "metadata": {},
   "source": [
    "# Interpolation\n",
    "Salah satu pendekatan numerik yang digunakan untuk menghitung titik data baru berdasarkan range data yang sudah ada.  \n",
    "Perhitungan ini menggunakan sebuah persamaan garis linear ataupun polynomial.   \n",
    "Perhitungan tersebut membuat metode ini sangat cocok digunakan untuk menangani missing value pada data time series."
   ]
  },
  {
   "cell_type": "code",
   "execution_count": null,
   "metadata": {},
   "outputs": [],
   "source": [
    "import pandas as pd\n",
    "\n",
    "data=pd.read_csv('bbca_index.csv')\n",
    "\n",
    "data.close_price.interpolate(method='linear', limit_direction='forward', inplace=True)"
   ]
  },
  {
   "cell_type": "markdown",
   "metadata": {},
   "source": [
    "# Teknik u/ mengatasi Outlier"
   ]
  },
  {
   "cell_type": "code",
   "execution_count": null,
   "metadata": {},
   "outputs": [],
   "source": []
  }
 ],
 "metadata": {
  "language_info": {
   "name": "python"
  },
  "orig_nbformat": 4
 },
 "nbformat": 4,
 "nbformat_minor": 2
}
