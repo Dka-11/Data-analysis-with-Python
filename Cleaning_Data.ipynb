{
 "cells": [
  {
   "cell_type": "markdown",
   "metadata": {},
   "source": [
    "# Teknik untuk mengatasi Missing Value"
   ]
  },
  {
   "cell_type": "markdown",
   "metadata": {},
   "source": [
    "## Dropping\n",
    "\n",
    "Pada metode ini, kita akan menghapus seluruh baris atau kolom yang memiliki missing value"
   ]
  },
  {
   "cell_type": "code",
   "execution_count": null,
   "metadata": {},
   "outputs": [],
   "source": [
    "#  Dropna() --> menghapus seluruh baris atau kolom yang memiliki missing value\n",
    "import pandas as pd\n",
    "\n",
    "products_df = pd.read_csv(\"product.csv\")\n",
    "\n",
    "products_df.dropna(axis=0, inplace=True)\n",
    "# axis = 0 --> Drop rows which contain missing values.\n",
    "# axis = 1 -->  Drop columns which contain missing value.\n",
    "# Inplace = True --> menerapkan operasi tersebut ke dalam DataFrame"
   ]
  },
  {
   "cell_type": "markdown",
   "metadata": {},
   "source": [
    "## Imputation\n",
    "\n",
    "Mengisi (fill) missing value dengan nilai tertentu.  \n",
    "- Data Kontinu --> menggunakan nilai mean, median, atau mode sebagai pengganti missing value  \n",
    "- Kategoris --> mengisi missing value dengan kategori yang paling sering muncul."
   ]
  },
  {
   "cell_type": "code",
   "execution_count": null,
   "metadata": {},
   "outputs": [],
   "source": [
    "# Fillna() --> mengganti missing value dengan nilai tertentu\n",
    "import pandas as pd\n",
    "\n",
    "data=pd.read_csv('employee_data.csv')\n",
    "\n",
    "data.age.fillna(value=data.age.mean(), inplace=True)"
   ]
  },
  {
   "cell_type": "markdown",
   "metadata": {},
   "source": [
    "# Interpolation\n",
    "Salah satu pendekatan numerik yang digunakan untuk menghitung titik data baru berdasarkan range data yang sudah ada.  \n",
    "Perhitungan ini menggunakan sebuah persamaan garis linear ataupun polynomial.   \n",
    "Perhitungan tersebut membuat metode ini sangat cocok digunakan untuk menangani missing value pada data time series."
   ]
  },
  {
   "cell_type": "code",
   "execution_count": null,
   "metadata": {},
   "outputs": [],
   "source": [
    "import pandas as pd\n",
    "\n",
    "data=pd.read_csv('bbca_index.csv')\n",
    "\n",
    "data.close_price.interpolate(method='linear', limit_direction='forward', inplace=True)"
   ]
  },
  {
   "cell_type": "markdown",
   "metadata": {},
   "source": [
    "# Teknik u/ mengatasi Outlier\n"
   ]
  },
  {
   "cell_type": "markdown",
   "metadata": {},
   "source": [
    "## Drop\n",
    "Metode pertama yang paling mudah ialah men-drop atau menghapus seluruh baris yang mengandung outlier. Metode ini mampu mencegah outlier mempengaruhi hasil analisis yang kita buat."
   ]
  },
  {
   "cell_type": "code",
   "execution_count": null,
   "metadata": {},
   "outputs": [],
   "source": [
    "df = pd.read_csv(\"data.csv\")\n",
    "\n",
    "Q1 = (df['TotalCharges']).quantile(0.25)\n",
    "Q3 = (df['TotalCharges']).quantile(0.75)\n",
    "IQR = Q3 - Q1\n",
    "\n",
    "maximum = Q3 + (1.5*IQR)\n",
    "minimum = Q1 - (1.5*IQR)\n",
    "\n",
    "kondisi_lower_than = df['TotalCharges'] < maximum\n",
    "kondisi_more_than = df['TotalCharges'] > minimum\n",
    "\n",
    "df.drop(df[kondisi_lower_than].index, inplace=True)\n",
    "df.drop(df[kondisi_more_than].index, inplace=True)"
   ]
  },
  {
   "cell_type": "markdown",
   "metadata": {},
   "source": [
    "# Imputation\n",
    "Konsepnya mirip seperti sebelumnya yaitu mengganti outlier dengan nilai tertentu. Nilai yang bisa kita gunakan ialah mean, media, dan mode. Selain itu, tidak jarang juga kita mengganti outlier dengan boundary value.\n",
    "\n",
    "Untuk menerapkan metode ini, kita bisa menggunakan method mask() yang disediakan oleh library pandas. Method tersebut menerima parameter cond sebagai kondisi untuk memfilter nilai outlier."
   ]
  },
  {
   "cell_type": "code",
   "execution_count": null,
   "metadata": {},
   "outputs": [],
   "source": [
    "df = pd.read_csv(\"data.csv\")\n",
    "\n",
    "Q1 = (df['TotalCharges']).quantile(0.25)\n",
    "Q3 = (df['TotalCharges']).quantile(0.75)\n",
    "IQR = Q3 - Q1\n",
    "\n",
    "maximum = Q3 + (1.5*IQR)\n",
    "minimum = Q1 - (1.5*IQR)\n",
    "\n",
    "kondisi_lower_than = df['TotalCharges'] < minimum\n",
    "kondisi_more_than = df['TotalCharges'] > maximum\n",
    "\n",
    "df.mask(cond=kondisi_more_than, maximum, axis=1, inplace=True)\n",
    "df.mask(cond=kondisi_lower_than, minimum, axis=1, inplace=True)"
   ]
  },
  {
   "cell_type": "markdown",
   "metadata": {},
   "source": [
    "# Teknik untuk mengatasi Duplicate Data"
   ]
  },
  {
   "cell_type": "markdown",
   "metadata": {},
   "source": [
    "drop_duplicates() untuk menghilangkan duplikasi dalam sebuah DataFrame. Berikut merupakan contoh kode untuk menggunakan method tersebut."
   ]
  },
  {
   "cell_type": "code",
   "execution_count": null,
   "metadata": {},
   "outputs": [],
   "source": [
    "import pandas as pd\n",
    "\n",
    "df = pd.read_csv(\"data.csv\")\n",
    "df.drop_duplicates(inplace=True)"
   ]
  }
 ],
 "metadata": {
  "language_info": {
   "name": "python"
  },
  "orig_nbformat": 4
 },
 "nbformat": 4,
 "nbformat_minor": 2
}
